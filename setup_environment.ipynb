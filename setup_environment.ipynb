{
  "nbformat": 4,
  "nbformat_minor": 0,
  "metadata": {
    "colab": {
      "name": "setup_notebook",
      "provenance": [],
      "authorship_tag": "ABX9TyPajfocnRv6KzHqBnH2Lywx"
    },
    "kernelspec": {
      "name": "python3",
      "display_name": "Python 3"
    }
  },
  "cells": [
    {
      "cell_type": "markdown",
      "metadata": {
        "id": "sfg_SbQWBCmW"
      },
      "source": [
        "## Setup\n",
        "\n",
        "*You must run the cells in this section each time you connect to a new runtime. For example, when you return to the notebook after an idle timeout, when the runtime crashes, or when you restart or factory reset the runtime.*"
      ]
    },
    {
      "cell_type": "markdown",
      "metadata": {
        "id": "2MRnhij4pmZO"
      },
      "source": [
        "Set name of spreadsheet to export results to:"
      ]
    },
    {
      "cell_type": "code",
      "metadata": {
        "id": "drokzszlphmK"
      },
      "source": [
        "spreadsheet_name = 'feedback_results'"
      ],
      "execution_count": null,
      "outputs": []
    },
    {
      "cell_type": "markdown",
      "source": [
        "To check that the Kingfisher Collect scraper for your collection completed sucessfully, set the URL of the log file for the job from [Kingfisher Collect](https://collect.kingfisher.open-contracting.org), e.g. `https://collect.kingfisher.open-contracting.org/logs/kingfisher/united_kingdom_contracts_finder_releases/2ef35b40b93b11ec88920c9d92c523cb.log`."
      ],
      "metadata": {
        "id": "CEmXhx6wn_Ft"
      }
    },
    {
      "cell_type": "code",
      "source": [
        "import getpass\n",
        "\n",
        "log_url = ''\n",
        "\n",
        "if log_url != '':\n",
        "\n",
        "  scrapy_password = getpass.getpass('Enter the password for collect.kingfisher.open-contracting.org:')"
      ],
      "metadata": {
        "id": "bhtlijjgmBU2"
      },
      "execution_count": null,
      "outputs": []
    },
    {
      "cell_type": "markdown",
      "metadata": {
        "id": "F8fwq_F6XMLs"
      },
      "source": [
        "Enter your Kingfisher Process credentials:"
      ]
    },
    {
      "cell_type": "code",
      "metadata": {
        "id": "27yRx-oaXPtd"
      },
      "source": [
        "user = input('Username:')\n",
        "password = getpass.getpass('Password:')"
      ],
      "execution_count": null,
      "outputs": []
    },
    {
      "cell_type": "markdown",
      "metadata": {
        "id": "DZASSenGpprv"
      },
      "source": [
        "Setup notebook environment:"
      ]
    },
    {
      "cell_type": "code",
      "metadata": {
        "id": "--8vgOiP_58f"
      },
      "source": [
        "# Install Kingfisher Colab and required packages\n",
        "%shell pip install --upgrade 'ocdskingfishercolab<0.4' psycopg2-binary > pip.log\n",
        "\n",
        "# Install Scrapy Log Analyzer\n",
        "!pip install git+https://github.com/open-contracting/scrapy-log-analyzer.git\n",
        "\n",
        "# Import libraries and functions\n",
        "import pandas as pd\n",
        "import requests\n",
        "\n",
        "from google.colab.data_table import DataTable\n",
        "from ocdskingfishercolab import (\n",
        "    list_source_ids,\n",
        "    list_collections,\n",
        "    render_json,\n",
        "    set_spreadsheet_name,\n",
        "    save_dataframe_to_sheet,\n",
        "    save_dataframe_to_spreadsheet,\n",
        "    set_search_path)\n",
        "from pprint import pprint\n",
        "from scrapyloganalyzer import ScrapyLogFile\n",
        "\n",
        "# Load https://pypi.org/project/ipython-sql/\n",
        "%load_ext sql\n",
        "\n",
        "# Load https://colab.research.google.com/notebooks/data_table.ipynb\n",
        "%load_ext google.colab.data_table\n",
        "DataTable.max_columns = 50 # Increase max columns so that dataframes with many columns are rendered as data tables\n",
        "DataTable.include_index = False # Remove the index from data tables for easier copy-pasting to Google Docs\n",
        "\n",
        "# Set config\n",
        "%config SqlMagic.autopandas = True  # Return Pandas DataFrames instead of regular result sets\n",
        "%config SqlMagic.displaycon = False  # Don't show connection string after execute\n",
        "%config SqlMagic.feedback = False  # Don't print number of rows affected by DML\n",
        "set_spreadsheet_name(spreadsheet_name) # Set name of spreadsheet for exporting results\n",
        "\n",
        "# Connect to database\n",
        "connection_string = 'postgresql://' + user + ':' + password + '@postgres.kingfisher.open-contracting.org/kingfisher_process?sslmode=require'\n",
        "%sql $connection_string\n",
        "  \n",
        "# Install and setup plotting library\n",
        "# Maybe this can also be moved to Kingfisher-Colab?\n",
        "!pip install seaborn\n",
        "\n",
        "import seaborn as sns\n",
        "import matplotlib.pyplot as plt\n",
        "import matplotlib.ticker as tkr\n",
        "\n",
        "colab_dark_style = {'figure.facecolor': '#383838',\n",
        "                       'axes.edgecolor': '#d5d5d5',\n",
        "                       'axes.facecolor': '#383838',\n",
        "                       'axes.labelcolor': '#d5d5d5',\n",
        "                       'text.color': '#d5d5d5',\n",
        "                       'xtick.color': '#d5d5d5',\n",
        "                       'ytick.color': '#d5d5d5'}\n",
        "\n",
        "sns.set_style('dark', colab_dark_style)\n",
        "\n",
        "# Define function to apply number formatting to axis labels\n",
        "# Maybe this can also be moved to Kingfisher-Colab?\n",
        "# Needs updating to support other locales\n",
        "def format_thousands(axis):\n",
        "  axis.set_major_formatter(tkr.FuncFormatter(lambda x, pos: '{:,.0f}'.format(x)))"
      ],
      "execution_count": null,
      "outputs": []
    },
    {
      "cell_type": "code",
      "source": [
        "!"
      ],
      "metadata": {
        "id": "sQL1XchVxUlp"
      },
      "execution_count": null,
      "outputs": []
    }
  ]
}
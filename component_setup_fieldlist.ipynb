{
  "cells": [
    {
      "cell_type": "markdown",
      "metadata": {
        "id": "OO6GyDGyfKmp"
      },
      "source": [
        "## Setup field list"
      ]
    },
    {
      "cell_type": "markdown",
      "metadata": {
        "id": "II0mATgefP8R"
      },
      "source": [
        "To run this notebook, you need to have the list of fields that the publisher is intended to publish. You can get that list from their mapping template. We currently don't have an automatic way to extract the list from the template, so you must get this list manually.\n",
        "\n",
        "Upload an Excel file that includes the list of fields available in a column (no header).  Change the name of the file below. The list of fields must have the object/field_name format, for example `tender/id`."
      ]
    },
    {
      "cell_type": "code",
      "execution_count": null,
      "metadata": {
        "id": "LnELmZSngWT9"
      },
      "outputs": [],
      "source": [
        "file_name = \"ADD FILE\""
      ]
    },
    {
      "cell_type": "markdown",
      "metadata": {
        "id": "0bcLPiPXgeJ-"
      },
      "source": [
        "Transform the file into a dataframe\n"
      ]
    },
    {
      "cell_type": "code",
      "execution_count": null,
      "metadata": {
        "id": "ajkXtOdFggt9"
      },
      "outputs": [],
      "source": [
        "fields_table = pd.read_excel(file_name, header=None)\n",
        "fields_list = fields_table.iloc[:, 0].tolist()\n",
        "fields_table"
      ]
    }
  ],
  "metadata": {
    "colab": {
      "provenance": [],
      "toc_visible": true
    },
    "kernelspec": {
      "display_name": "Python 3",
      "name": "python3"
    }
  },
  "nbformat": 4,
  "nbformat_minor": 0
}

{
 "nbformat": 4,
 "nbformat_minor": 0,
 "metadata": {
  "colab": {
   "provenance": [],
   "toc_visible": true
  },
  "kernelspec": {
   "name": "python3",
   "display_name": "Python 3"
  }
 },
 "cells": [
  {
   "cell_type": "markdown",
   "source": [
    "## Calculate general statistics"
   ],
   "metadata": {
    "id": "tnSzwOTTRbgE"
   }
  },
  {
   "cell_type": "markdown",
   "source": [
    "Use this section to have an overview of the dataset in terms of fields published, stages covered and key summary statistics.  You can add any additional queries as needed.  "
   ],
   "metadata": {
    "id": "rjpK7uocUeW4"
   }
  },
  {
   "cell_type": "markdown",
   "source": [
    "###Fields published"
   ],
   "metadata": {
    "id": "7VRH7RmPRfBD"
   }
  },
  {
   "cell_type": "markdown",
   "source": [
    "Calculate the fields published"
   ],
   "metadata": {
    "id": "uVaXeoF7U6bV"
   }
  },
  {
   "cell_type": "code",
   "source": [
    "%%sql fields_table <<\n",
    "\n",
    "SELECT\n",
    "    path,\n",
    "    distinct_releases\n",
    "FROM\n",
    "    field_counts\n",
    "WHERE\n",
    "    release_type = 'compiled_release'\n"
   ],
   "metadata": {
    "id": "6KgBNO1QUuL4"
   },
   "execution_count": null,
   "outputs": []
  },
  {
   "cell_type": "code",
   "source": [
    "fields_table"
   ],
   "metadata": {
    "id": "J7Eieoo9U8Ku"
   },
   "execution_count": null,
   "outputs": []
  },
  {
   "cell_type": "markdown",
   "source": [
    "Save fields table in spreadsheet:"
   ],
   "metadata": {
    "id": "Z-KSlo8Vb69M"
   }
  },
  {
   "cell_type": "code",
   "source": [
    "save_dataframe_to_sheet(fields_table, \"fields\")"
   ],
   "metadata": {
    "id": "9CaaBbFLb6dl"
   },
   "execution_count": null,
   "outputs": []
  },
  {
   "cell_type": "markdown",
   "source": [
    "### Stages covered"
   ],
   "metadata": {
    "id": "shGR-DXCcDkx"
   }
  },
  {
   "cell_type": "code",
   "source": [
    "%%sql stages <<\n",
    "\n",
    "SELECT\n",
    "    CASE WHEN paths.path = 'contracts/implementation' THEN\n",
    "        'implementation'\n",
    "    ELSE\n",
    "        paths.path\n",
    "    END AS stage,\n",
    "    CASE WHEN paths.path IN ('planning', 'tender', 'contracts/implementation') THEN\n",
    "        GREATEST (object_property, 0)\n",
    "    ELSE\n",
    "        GREATEST (array_count, 0)\n",
    "    END AS object_count\n",
    "FROM (\n",
    "    SELECT\n",
    "        unnest(ARRAY['planning', 'tender', 'awards', 'contracts', 'contracts/implementation']) AS path) AS paths\n",
    "    LEFT JOIN (\n",
    "        SELECT\n",
    "            *\n",
    "        FROM\n",
    "            field_counts\n",
    "        WHERE\n",
    "            release_type = 'compiled_release'\n",
    "            AND path IN ('planning', 'tender', 'awards', 'contracts', 'contracts/implementation')) AS field_counts USING (path)\n"
   ],
   "metadata": {
    "id": "APMabfEPcPui"
   },
   "execution_count": null,
   "outputs": []
  },
  {
   "cell_type": "code",
   "source": [
    "stages"
   ],
   "metadata": {
    "id": "f40SbJg0cbvp"
   },
   "execution_count": null,
   "outputs": []
  },
  {
   "cell_type": "code",
   "source": [
    "fig = px.bar(\n",
    "    stages,\n",
    "    x=\"stage\",\n",
    "    y=\"object_count\",\n",
    "    title=\"Stages covered\",\n",
    "    template=\"plotly_white\",\n",
    "    text=\"object_count\",\n",
    "    labels={\"stage\": \"Stage\", \"object_count\": \"Number of releases\"},\n",
    ")\n",
    "fig.update_traces(marker_color=\"#D6E100\")\n",
    "fig.update_layout(width=400, height=350, bargap=0.5)\n",
    "fig.show()"
   ],
   "metadata": {
    "id": "zGNrN_occdW5"
   },
   "execution_count": null,
   "outputs": []
  },
  {
   "cell_type": "markdown",
   "source": [
    "### Number of tenders and awards by date"
   ],
   "metadata": {
    "id": "TbpO9Jc6c6wQ"
   }
  },
  {
   "cell_type": "code",
   "source": [
    "%%sql dates <<\n",
    "\n",
    "WITH tenders AS (\n",
    "    SELECT\n",
    "        extract(YEAR FROM tenderperiod_startdate) AS year,\n",
    "        count(*) AS tenders\n",
    "    FROM\n",
    "        tender_summary\n",
    "    WHERE\n",
    "        release_type = 'compiled_release'\n",
    "    GROUP BY\n",
    "        year\n",
    "    ORDER BY\n",
    "        year\n",
    "),\n",
    "awards AS (\n",
    "    SELECT\n",
    "        extract(YEAR FROM date) AS year,\n",
    "        count(*) AS awards\n",
    "    FROM\n",
    "        awards_summary\n",
    "    WHERE\n",
    "        release_type = 'compiled_release'\n",
    "    GROUP BY\n",
    "        year\n",
    "    ORDER BY\n",
    "        year\n",
    ")\n",
    "SELECT\n",
    "    t.year,\n",
    "    tenders,\n",
    "    awards\n",
    "FROM\n",
    "    tenders t\n",
    "    FULL JOIN awards a ON t.year = a.year\n"
   ],
   "metadata": {
    "id": "twYK088Dc79V"
   },
   "execution_count": null,
   "outputs": []
  },
  {
   "cell_type": "code",
   "source": [
    "dates"
   ],
   "metadata": {
    "id": "cPEHTK67Mp6P"
   },
   "execution_count": null,
   "outputs": []
  },
  {
   "cell_type": "code",
   "source": [
    "final = pd.melt(dates, id_vars=[\"year\"], value_vars=[\"tenders\", \"awards\"])\n",
    "fig = px.bar(\n",
    "    final,\n",
    "    x=\"year\",\n",
    "    y=\"value\",\n",
    "    color=\"variable\",\n",
    "    barmode=\"group\",\n",
    "    title=\"Tenders and awards by year\",\n",
    "    template=\"plotly_white\",\n",
    "    text=\"value\",\n",
    "    color_discrete_sequence=[\"#D6E100\", \"#6c75e1\"],\n",
    "    labels={\"value\": \"Tenders and awards\"},\n",
    ")\n",
    "fig.update_layout(width=600, height=350, bargap=0.5)\n",
    "\n",
    "fig.show()"
   ],
   "metadata": {
    "id": "ZFUPPW51dF4m"
   },
   "execution_count": null,
   "outputs": []
  },
  {
   "cell_type": "markdown",
   "source": [
    "### Procurement methods used"
   ],
   "metadata": {
    "id": "g5n8QT44dKT1"
   }
  },
  {
   "cell_type": "code",
   "source": [
    "%%sql\n",
    "\n",
    "SELECT\n",
    "    procurementmethod,\n",
    "    count(DISTINCT (ocid)),\n",
    "    round((count(*) * 100.0 / sum(count(*)) OVER ()), 1) AS proportion\n",
    "FROM\n",
    "    tender_summary\n",
    "WHERE\n",
    "    release_type = 'compiled_release'\n",
    "GROUP BY\n",
    "    procurementmethod\n",
    "ORDER BY\n",
    "    proportion DESC\n"
   ],
   "metadata": {
    "id": "zybYaAktdPeq"
   },
   "execution_count": null,
   "outputs": []
  },
  {
   "cell_type": "code",
   "source": [
    "%%sql\n",
    "\n",
    "SELECT\n",
    "    tender ->> 'procurementMethodDetails' AS method,\n",
    "    count(DISTINCT (ocid)),\n",
    "    round((count(*) * 100.0 / sum(count(*)) OVER ()), 1) AS proportion\n",
    "FROM\n",
    "    tender_summary\n",
    "WHERE\n",
    "    release_type = 'compiled_release'\n",
    "GROUP BY\n",
    "    method\n",
    "ORDER BY\n",
    "    proportion DESC\n"
   ],
   "metadata": {
    "id": "9nGLJhu9dgyU"
   },
   "execution_count": null,
   "outputs": []
  },
  {
   "cell_type": "markdown",
   "source": [
    "### Number of procedures by buyer"
   ],
   "metadata": {
    "id": "_QlQDgw1hzdL"
   }
  },
  {
   "cell_type": "code",
   "source": [
    "%%sql buyers <<\n",
    "\n",
    "SELECT\n",
    "    party -> 'name' AS \"name\",\n",
    "    identifier AS party_id,\n",
    "    count(DISTINCT ocid) AS total_tenders\n",
    "FROM\n",
    "    parties_summary\n",
    "WHERE\n",
    "    roles::text ILIKE '%%buyer%%'\n",
    "    AND release_type = 'compiled_release'\n",
    "GROUP BY\n",
    "    identifier,\n",
    "    party -> 'name'\n",
    "ORDER BY\n",
    "    total_tenders DESC\n"
   ],
   "metadata": {
    "id": "3V7AjxJXh17K"
   },
   "execution_count": null,
   "outputs": []
  },
  {
   "cell_type": "code",
   "source": [
    "buyers.head(10)"
   ],
   "metadata": {
    "id": "u-fpK7O-iEya"
   },
   "execution_count": null,
   "outputs": []
  },
  {
   "cell_type": "code",
   "source": [
    "fig = px.bar(\n",
    "    buyers.head(10),\n",
    "    y=\"name\",\n",
    "    x=\"total_tenders\",\n",
    "    title=\"Top 10 buyers\",\n",
    "    template=\"plotly_white\",\n",
    "    text=\"total_tenders\",\n",
    "    labels={\"total_tenders\": \"Number of procedures\", \"name\": \"buyer\"},\n",
    "    color_discrete_sequence=[\"#D6E100\", \"#6c75e1\"],\n",
    "    orientation=\"h\",\n",
    ")\n",
    "# fig.update_traces()\n",
    "fig.update_layout(\n",
    "    width=850, height=450, bargap=0.4, yaxis={\"categoryorder\": \"total ascending\"}\n",
    ")\n",
    "fig.show()"
   ],
   "metadata": {
    "id": "KmgHVCXaiCeG"
   },
   "execution_count": null,
   "outputs": []
  }
 ]
}
